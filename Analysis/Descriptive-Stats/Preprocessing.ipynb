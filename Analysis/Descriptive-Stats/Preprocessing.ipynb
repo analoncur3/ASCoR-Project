{
 "cells": [
  {
   "cell_type": "markdown",
   "metadata": {},
   "source": [
    "# Pre-processing workflow\n",
    "\n",
    "This script contains the choices made when preprocessing the original article text:\n",
    "The word count of the OG corpus is 6371235.\n",
    "\n"
   ]
  },
  {
   "cell_type": "markdown",
   "metadata": {},
   "source": [
    "1. First we remove double spaces by splitting the text into words and joining them againn\n",
    "2. To account for instances in which suppression appears in quotation marks, we replace \"suppression\" with no suppression before removing symbols.\n",
    "3. We create a list of irrelevant words"
   ]
  },
  {
   "cell_type": "code",
   "execution_count": null,
   "metadata": {},
   "outputs": [],
   "source": [
    "# Installing modules\n",
    "!pip install nltk\n",
    "!pip install pandas\n",
    "!pip install numpy\n",
    "!pip install matplotlib\n",
    "!pip install sklearn"
   ]
  },
  {
   "cell_type": "code",
   "execution_count": 1,
   "metadata": {},
   "outputs": [
    {
     "name": "stderr",
     "output_type": "stream",
     "text": [
      "[nltk_data] Downloading package punkt to\n",
      "[nltk_data]     C:\\Users\\analo\\AppData\\Roaming\\nltk_data...\n",
      "[nltk_data]   Package punkt is already up-to-date!\n",
      "[nltk_data] Downloading package wordnet to\n",
      "[nltk_data]     C:\\Users\\analo\\AppData\\Roaming\\nltk_data...\n",
      "[nltk_data]   Package wordnet is already up-to-date!\n",
      "[nltk_data] Downloading package averaged_perceptron_tagger to\n",
      "[nltk_data]     C:\\Users\\analo\\AppData\\Roaming\\nltk_data...\n",
      "[nltk_data]   Package averaged_perceptron_tagger is already up-to-\n",
      "[nltk_data]       date!\n"
     ]
    }
   ],
   "source": [
    "# Importing modules\n",
    "import re, nltk, numpy, matplotlib\n",
    "import pandas as pd\n",
    "nltk.download('punkt')\n",
    "nltk.download('wordnet')\n",
    "nltk.download('averaged_perceptron_tagger')\n",
    "from nltk.stem import WordNetLemmatizer, PorterStemmer, SnowballStemmer\n",
    "from nltk.corpus import stopwords\n",
    "from nltk.tokenize import word_tokenize\n",
    "from sklearn.feature_extraction.text import CountVectorizer, TfidfVectorizer, TfidfTransformer \n",
    "from sklearn.decomposition import LatentDirichletAllocation\n",
    "from gensim import corpora\n",
    "from collections import Counter"
   ]
  },
  {
   "cell_type": "code",
   "execution_count": 30,
   "metadata": {},
   "outputs": [
    {
     "data": {
      "text/html": [
       "<div>\n",
       "<style scoped>\n",
       "    .dataframe tbody tr th:only-of-type {\n",
       "        vertical-align: middle;\n",
       "    }\n",
       "\n",
       "    .dataframe tbody tr th {\n",
       "        vertical-align: top;\n",
       "    }\n",
       "\n",
       "    .dataframe thead th {\n",
       "        text-align: right;\n",
       "    }\n",
       "</style>\n",
       "<table border=\"1\" class=\"dataframe\">\n",
       "  <thead>\n",
       "    <tr style=\"text-align: right;\">\n",
       "      <th></th>\n",
       "      <th>date</th>\n",
       "      <th>maintext</th>\n",
       "      <th>title</th>\n",
       "      <th>source</th>\n",
       "      <th>media_name</th>\n",
       "      <th>ideology</th>\n",
       "      <th>Congress</th>\n",
       "    </tr>\n",
       "  </thead>\n",
       "  <tbody>\n",
       "    <tr>\n",
       "      <th>0</th>\n",
       "      <td>2015/02/13</td>\n",
       "      <td>Advertisement\\r\\r\\nIn honor of our 95 annivers...</td>\n",
       "      <td>6 Ways the League of Women Voters Has Impacted...</td>\n",
       "      <td>http://www.huffingtonpost.com/elisabeth-macnam...</td>\n",
       "      <td>Huffington Post</td>\n",
       "      <td>left</td>\n",
       "      <td>114th</td>\n",
       "    </tr>\n",
       "    <tr>\n",
       "      <th>1</th>\n",
       "      <td>2015/02/10</td>\n",
       "      <td>As state legislatures shift into high gear, ma...</td>\n",
       "      <td>Opportunities for Effective Election Reforms C...</td>\n",
       "      <td>http://www.huffingtonpost.com/robert-m-brandon...</td>\n",
       "      <td>Huffington Post</td>\n",
       "      <td>left</td>\n",
       "      <td>114th</td>\n",
       "    </tr>\n",
       "    <tr>\n",
       "      <th>2</th>\n",
       "      <td>2015/02/22</td>\n",
       "      <td>FILE - In a Tuesday, Nov. 4, 2014 file photo, ...</td>\n",
       "      <td>Scott Walker Pushes ALEC 'Right to Work' Bill,...</td>\n",
       "      <td>http://www.huffingtonpost.com/mary-bottari/sco...</td>\n",
       "      <td>Huffington Post</td>\n",
       "      <td>left</td>\n",
       "      <td>114th</td>\n",
       "    </tr>\n",
       "    <tr>\n",
       "      <th>3</th>\n",
       "      <td>2015/02/25</td>\n",
       "      <td>Former Ohio Gov. Ted Strickland (D) announced ...</td>\n",
       "      <td>Ted Strickland Announces He's Running For The ...</td>\n",
       "      <td>http://www.huffingtonpost.com/2015/02/25/ted-s...</td>\n",
       "      <td>Huffington Post</td>\n",
       "      <td>left</td>\n",
       "      <td>114th</td>\n",
       "    </tr>\n",
       "    <tr>\n",
       "      <th>4</th>\n",
       "      <td>2015/02/26</td>\n",
       "      <td>Nevada Senate Minority Leader Michael Roberson...</td>\n",
       "      <td>Nevada GOP Pushes New Gun Law Reminiscent Of '...</td>\n",
       "      <td>http://www.huffingtonpost.com/2015/02/26/nevad...</td>\n",
       "      <td>Huffington Post</td>\n",
       "      <td>left</td>\n",
       "      <td>114th</td>\n",
       "    </tr>\n",
       "  </tbody>\n",
       "</table>\n",
       "</div>"
      ],
      "text/plain": [
       "         date                                           maintext  \\\n",
       "0  2015/02/13  Advertisement\\r\\r\\nIn honor of our 95 annivers...   \n",
       "1  2015/02/10  As state legislatures shift into high gear, ma...   \n",
       "2  2015/02/22  FILE - In a Tuesday, Nov. 4, 2014 file photo, ...   \n",
       "3  2015/02/25  Former Ohio Gov. Ted Strickland (D) announced ...   \n",
       "4  2015/02/26  Nevada Senate Minority Leader Michael Roberson...   \n",
       "\n",
       "                                               title  \\\n",
       "0  6 Ways the League of Women Voters Has Impacted...   \n",
       "1  Opportunities for Effective Election Reforms C...   \n",
       "2  Scott Walker Pushes ALEC 'Right to Work' Bill,...   \n",
       "3  Ted Strickland Announces He's Running For The ...   \n",
       "4  Nevada GOP Pushes New Gun Law Reminiscent Of '...   \n",
       "\n",
       "                                              source       media_name  \\\n",
       "0  http://www.huffingtonpost.com/elisabeth-macnam...  Huffington Post   \n",
       "1  http://www.huffingtonpost.com/robert-m-brandon...  Huffington Post   \n",
       "2  http://www.huffingtonpost.com/mary-bottari/sco...  Huffington Post   \n",
       "3  http://www.huffingtonpost.com/2015/02/25/ted-s...  Huffington Post   \n",
       "4  http://www.huffingtonpost.com/2015/02/26/nevad...  Huffington Post   \n",
       "\n",
       "  ideology Congress  \n",
       "0     left    114th  \n",
       "1     left    114th  \n",
       "2     left    114th  \n",
       "3     left    114th  \n",
       "4     left    114th  "
      ]
     },
     "execution_count": 30,
     "metadata": {},
     "output_type": "execute_result"
    }
   ],
   "source": [
    "# load categorised data by media ideological affiliation\n",
    "df = pd.read_csv('C:/Users/analo/OneDrive - University of Glasgow/University of Glasgow/Amsterdam Visit/ASCoR-Project/Data Files/finalcorpus.csv', encoding='latin-1')\n",
    "df.head()  "
   ]
  },
  {
   "cell_type": "code",
   "execution_count": 4,
   "metadata": {},
   "outputs": [
    {
     "data": {
      "text/plain": [
       "6371235"
      ]
     },
     "execution_count": 4,
     "metadata": {},
     "output_type": "execute_result"
    }
   ],
   "source": [
    "# counting words of original text \n",
    "from nltk.tokenize import word_tokenize\n",
    "text =df['maintext'].apply(str) \n",
    "documents = [\" \".join(strings.split()) for strings in text] \n",
    "string = \" \".join(documents)\n",
    "tokenized = word_tokenize(string)\n",
    "len(tokenized)"
   ]
  },
  {
   "cell_type": "markdown",
   "metadata": {},
   "source": [
    "### Stopwords"
   ]
  },
  {
   "cell_type": "markdown",
   "metadata": {},
   "source": [
    "I loaded a txt file with common stopwords. I created new stopwords following the title analysis with irrelevant words and also a list of words with a low idf score, so words that are common in the entire corpus,"
   ]
  },
  {
   "cell_type": "code",
   "execution_count": 31,
   "metadata": {},
   "outputs": [],
   "source": [
    "stop_words_file = 'C:/Users/analo/OneDrive - University of Glasgow/University of Glasgow/Amsterdam Visit/ASCoR-Project/Analysis/Descriptive-Stats/english.stop.txt' # Stopword list\n",
    "new_stopwords = ['Opinion', 'New', 'Advertisement', 'advertisement','Mr', 'mr', 'Advertisement\\r\\r\\n'] # irrelevant words to add to stopword list\n",
    "idf_words = ['state', 'states','voting', 'election', 'vote', 'voters', 'voter'] # words with low idf score in entire corpus\n",
    "stop_words = []\n",
    "\n",
    "with open(stop_words_file, \"r\") as f:\n",
    "    for line in f:\n",
    "        stop_words.extend(line.split()) \n",
    "        \n",
    "stop_words = stop_words  "
   ]
  },
  {
   "cell_type": "code",
   "execution_count": 32,
   "metadata": {},
   "outputs": [],
   "source": [
    "# First we create a new column and convert the text column into string so that preprocessing works and get rid of double spaces\n",
    "df['text']=df['maintext'].apply(str) \n",
    "def nospace(raw_text):\n",
    "    words = raw_text.split() #split into words -> convert string into list\n",
    "    words = [\" \".join(words.split()) for words in words] # remove double spaces by splitting the strings into words and joining these words again\n",
    "    return \" \".join(words) # converting list back to string\n",
    "\n",
    "df['text'] = df['text'].apply(nospace)"
   ]
  },
  {
   "cell_type": "markdown",
   "metadata": {},
   "source": [
    "#### 1. Remove irrelevant words"
   ]
  },
  {
   "cell_type": "code",
   "execution_count": 33,
   "metadata": {},
   "outputs": [],
   "source": [
    "# remove new stop words associated with corpus\n",
    "def nostop(raw_text):\n",
    "    cleaned_words = [] # removing capitalised irrelevant words from corpus\n",
    "    words = raw_text.split()\n",
    "    for word in words:\n",
    "        if word not in new_stopwords:\n",
    "            cleaned_words.append(word)\n",
    "    return \" \".join(cleaned_words) # converting list back to string\n",
    "\n",
    "df['text'] = df['text'].apply(nostop)"
   ]
  },
  {
   "cell_type": "markdown",
   "metadata": {},
   "source": [
    "#### 2. Replace \"suppression\" with no_suppression"
   ]
  },
  {
   "cell_type": "code",
   "execution_count": 34,
   "metadata": {},
   "outputs": [],
   "source": [
    "def quotations(raw_text):\n",
    "    text = raw_text.replace('\"suppression\"', 'no_suppression') \n",
    "    text = text.replace('\"jim crow\"', 'no_jim_crow') \n",
    "    return(text)\n",
    "\n",
    "df['text'] = df['text'].apply(quotations)\n"
   ]
  },
  {
   "cell_type": "code",
   "execution_count": 8,
   "metadata": {},
   "outputs": [
    {
     "data": {
      "text/plain": [
       "'this is a no_suppression, begin video clip to demonstrate u.s. how the function works...!'"
      ]
     },
     "execution_count": 8,
     "metadata": {},
     "output_type": "execute_result"
    }
   ],
   "source": [
    "test_sentence = 'this is a \"suppression\", begin video clip to demonstrate u.s. how the function works...!'\n",
    "quotations(test_sentence)"
   ]
  },
  {
   "cell_type": "markdown",
   "metadata": {},
   "source": [
    "#### 3. Remove symbols, convert to lower case and remove common stop words"
   ]
  },
  {
   "cell_type": "code",
   "execution_count": 18,
   "metadata": {},
   "outputs": [],
   "source": [
    "def preprocess(raw_text):\n",
    "    \n",
    "    #regular expression keeping only letters \n",
    "    #letters_only_text = re.sub(\"[^a-zA-Z]\", \" \", raw_text)\n",
    "\n",
    "     # convert to lower case and split into words -> convert string into list\n",
    "    words = raw_text.lower().split()\n",
    "    words=[\" \".join(words.split()) for words in words]   # remove double spaces by splitting the strings into words and joining these words again\n",
    "\n",
    "    cleaned_words = []    \n",
    "    # remove stopwords\n",
    "    for word in words:\n",
    "        if word not in stop_words:\n",
    "            cleaned_words.append(word)\n",
    "\n",
    "    # converting list back to string\n",
    "    return \" \".join(cleaned_words)\n",
    "\n",
    "df['text'] = df['text'].apply(preprocess)"
   ]
  },
  {
   "cell_type": "markdown",
   "metadata": {},
   "source": [
    "#### 4. Remove low idf score words"
   ]
  },
  {
   "cell_type": "code",
   "execution_count": 9,
   "metadata": {},
   "outputs": [],
   "source": [
    "def idfwords(raw_text):\n",
    "    cleaned_words = [] # removing capitalised irrelevant words from corpus\n",
    "    words = raw_text.split()\n",
    "    for word in words:\n",
    "        if word not in idf_words:\n",
    "            cleaned_words.append(word)\n",
    "    return \" \".join(cleaned_words) # converting list back to string\n",
    "\n",
    "df['text'] = df['text'].apply(idfwords)"
   ]
  },
  {
   "cell_type": "markdown",
   "metadata": {},
   "source": [
    "#### 5. Filtering words that appear less than 3 times overall"
   ]
  },
  {
   "cell_type": "code",
   "execution_count": 54,
   "metadata": {},
   "outputs": [],
   "source": [
    "from collections import Counter\n",
    "from itertools import chain\n",
    "\n",
    "# split words into lists\n",
    "v = df['text'].str.split().tolist() # [s.split() for s in df['Col2'].tolist()]\n",
    "# compute global word frequency\n",
    "c = Counter(chain.from_iterable(v))\n",
    "# filter, join, and re-assign\n",
    "df['text'] = [' '.join([j for j in i if c[j] > 3]) for i in v]"
   ]
  },
  {
   "cell_type": "markdown",
   "metadata": {},
   "source": [
    "#### 6. Finding and compounding top bigrams"
   ]
  },
  {
   "cell_type": "code",
   "execution_count": 55,
   "metadata": {},
   "outputs": [
    {
     "data": {
      "text/html": [
       "<div>\n",
       "<style scoped>\n",
       "    .dataframe tbody tr th:only-of-type {\n",
       "        vertical-align: middle;\n",
       "    }\n",
       "\n",
       "    .dataframe tbody tr th {\n",
       "        vertical-align: top;\n",
       "    }\n",
       "\n",
       "    .dataframe thead th {\n",
       "        text-align: right;\n",
       "    }\n",
       "</style>\n",
       "<table border=\"1\" class=\"dataframe\">\n",
       "  <thead>\n",
       "    <tr style=\"text-align: right;\">\n",
       "      <th></th>\n",
       "      <th>word</th>\n",
       "      <th>freq</th>\n",
       "    </tr>\n",
       "  </thead>\n",
       "  <tbody>\n",
       "    <tr>\n",
       "      <th>0</th>\n",
       "      <td>(voting, rights)</td>\n",
       "      <td>7327</td>\n",
       "    </tr>\n",
       "    <tr>\n",
       "      <th>1</th>\n",
       "      <td>(voter, id)</td>\n",
       "      <td>6283</td>\n",
       "    </tr>\n",
       "    <tr>\n",
       "      <th>2</th>\n",
       "      <td>(supreme, court)</td>\n",
       "      <td>4407</td>\n",
       "    </tr>\n",
       "    <tr>\n",
       "      <th>3</th>\n",
       "      <td>(north, carolina)</td>\n",
       "      <td>3582</td>\n",
       "    </tr>\n",
       "    <tr>\n",
       "      <th>4</th>\n",
       "      <td>(united, states)</td>\n",
       "      <td>3319</td>\n",
       "    </tr>\n",
       "    <tr>\n",
       "      <th>5</th>\n",
       "      <td>(civil, rights)</td>\n",
       "      <td>3057</td>\n",
       "    </tr>\n",
       "    <tr>\n",
       "      <th>6</th>\n",
       "      <td>(voter, fraud)</td>\n",
       "      <td>2950</td>\n",
       "    </tr>\n",
       "    <tr>\n",
       "      <th>7</th>\n",
       "      <td>(rights, act)</td>\n",
       "      <td>2688</td>\n",
       "    </tr>\n",
       "    <tr>\n",
       "      <th>8</th>\n",
       "      <td>(voter, registration)</td>\n",
       "      <td>2635</td>\n",
       "    </tr>\n",
       "    <tr>\n",
       "      <th>9</th>\n",
       "      <td>(donald, trump)</td>\n",
       "      <td>2422</td>\n",
       "    </tr>\n",
       "  </tbody>\n",
       "</table>\n",
       "</div>"
      ],
      "text/plain": [
       "                    word  freq\n",
       "0       (voting, rights)  7327\n",
       "1            (voter, id)  6283\n",
       "2       (supreme, court)  4407\n",
       "3      (north, carolina)  3582\n",
       "4       (united, states)  3319\n",
       "5        (civil, rights)  3057\n",
       "6         (voter, fraud)  2950\n",
       "7          (rights, act)  2688\n",
       "8  (voter, registration)  2635\n",
       "9        (donald, trump)  2422"
      ]
     },
     "execution_count": 55,
     "metadata": {},
     "output_type": "execute_result"
    }
   ],
   "source": [
    "from nltk.util import ngrams\n",
    "n_gram = 2\n",
    "ngram = pd.DataFrame(Counter(ngrams(\" \".join(df[\"text\"]).split(), n_gram)).most_common(10))\n",
    "ngram.columns=['word', 'freq']\n",
    "ngram"
   ]
  },
  {
   "cell_type": "markdown",
   "metadata": {},
   "source": [
    "Now that we know common bigrams we can go back to preprocessing and join these in the text so that they are subsequently treated as 1 token instead of 2. "
   ]
  },
  {
   "cell_type": "code",
   "execution_count": 19,
   "metadata": {},
   "outputs": [],
   "source": [
    "def bigrams(raw_text):\n",
    "    text = raw_text.replace(\"supreme court\", \"supreme_court\")\n",
    "    text = text.replace(\"donald trump\", \"donald_trump\")\n",
    "    text = text.replace(\"joe biden\", \"joe_biden\")\n",
    "    text = text.replace(\"jim crow\", \"jim_crow\")\n",
    "    text = text.replace(\"kamala harris\", \"kamala_harris\")\n",
    "    text = text.replace(\"stacey abrams\", \"stacey_abrams\")\n",
    "    text = text.replace(\"hillary clinton\", \"hillary_clinton\")\n",
    "    text = text.replace(\"south carolina\", \"south_carolina\")\n",
    "    text = text.replace(\"north carolina\", \"north_carolina\")\n",
    "    text = text.replace(\"united states\", \"united_states\")\n",
    "    text = text.replace(\"fox news\", \"fox_news\")\n",
    "     # split into words -> convert string into list\n",
    "    words = text.split()\n",
    "    words =[\" \".join(words.split()) for words in words]   # remove double spaces by splitting the strings into words and joining these words again\n",
    "    # converting list back to string\n",
    "    return \" \".join(words)\n",
    "\n",
    "df['text'] = df['text'].apply(bigrams)"
   ]
  },
  {
   "cell_type": "code",
   "execution_count": 23,
   "metadata": {},
   "outputs": [],
   "source": [
    "def change(raw_text):\n",
    "    text = raw_text.replace(\"donald_trump\", \"trump\")\n",
    "    text = text.replace(\"joe_biden\", \"biden\")\n",
    "    text = text.replace(\" id \", \" identification \")\n",
    "    text = text.replace(\" id,\", \" identification,\")\n",
    "    text = text.replace(\" id.\", \" identification.\")\n",
    "     # split into words -> convert string into list\n",
    "    words = text.split()\n",
    "    words =[\" \".join(words.split()) for words in words]   # remove double spaces by splitting the strings into words and joining these words again\n",
    "    # converting list back to string\n",
    "    return \" \".join(words)\n",
    "\n",
    "df['text'] = df['text'].apply(change)\n"
   ]
  },
  {
   "cell_type": "code",
   "execution_count": 22,
   "metadata": {},
   "outputs": [
    {
     "data": {
      "text/plain": [
       "'this is a voter identification , voter identification. voter identification, begin video clip to demonstrate u.s. how the function works...!'"
      ]
     },
     "execution_count": 22,
     "metadata": {},
     "output_type": "execute_result"
    }
   ],
   "source": [
    "test_sentence = 'this is a voter id , voter id. voter id, begin video clip to demonstrate u.s. how the function works...!'\n",
    "change(test_sentence)"
   ]
  },
  {
   "cell_type": "markdown",
   "metadata": {},
   "source": [
    "#### 7. remove new stop words associated with corpus\n"
   ]
  },
  {
   "cell_type": "code",
   "execution_count": 27,
   "metadata": {},
   "outputs": [],
   "source": [
    "new_stopwords2 = ['ve', 'don', 'mr', 'click', 'fox_news', 'hannity'] # irrelevant words to add to stopword list\n",
    "\n",
    "def newnostop(raw_text):\n",
    "    cleaned_words = [] # removing capitalised irrelevant words from corpus\n",
    "    words = raw_text.split()\n",
    "    for word in words:\n",
    "        if word not in new_stopwords2:\n",
    "            cleaned_words.append(word)\n",
    "    return \" \".join(cleaned_words) # converting list back to string\n",
    "\n",
    "df['text'] = df['text'].apply(newnostop)"
   ]
  },
  {
   "cell_type": "code",
   "execution_count": 25,
   "metadata": {},
   "outputs": [],
   "source": [
    "def newchange(raw_text):\n",
    "    text = raw_text.replace(\"begin video clip\", \"\")\n",
    "    text = text.replace(\"click fox_news app\", \"\")\n",
    "    text = text.replace(\"html graphic photo\", \"\")\n",
    "    text = text.replace(\"listen fox_news\", \"\")\n",
    "    text = text.replace(\"classification language english document type news publication type web blog\", \"\")\n",
    "     # split into words -> convert string into list\n",
    "    words = text.split()\n",
    "    words =[\" \".join(words.split()) for words in words]   # remove double spaces by splitting the strings into words and joining these words again\n",
    "    # converting list back to string\n",
    "    return \" \".join(words)\n",
    "\n",
    "df['text'] = df['text'].apply(newchange)"
   ]
  },
  {
   "cell_type": "markdown",
   "metadata": {},
   "source": [
    "#### 8. create a lemmatised text column"
   ]
  },
  {
   "cell_type": "code",
   "execution_count": 60,
   "metadata": {},
   "outputs": [],
   "source": [
    "def lemma(raw_text):\n",
    "     # convert to lower case and split into words -> convert string into list\n",
    "    words = raw_text.lower().split()\n",
    "    words= [\" \".join(words.split()) for words in words]   # remove double spaces by splitting the strings into words and joining these words again\n",
    "    #plug in here any other stemmer or lemmatiser you want to try out\n",
    "    # lemmatise words\n",
    "    lemmatised_words = []\n",
    "    for word in words:\n",
    "        word = nltk.stem.WordNetLemmatizer().lemmatize(word)  \n",
    "        lemmatised_words.append(word)\n",
    "\n",
    "    # converting list back to string\n",
    "    return \" \".join(lemmatised_words)\n",
    "\n",
    "df['lemma'] = df['text'].apply(lemma)"
   ]
  },
  {
   "cell_type": "code",
   "execution_count": 14,
   "metadata": {},
   "outputs": [
    {
     "data": {
      "text/html": [
       "<div>\n",
       "<style scoped>\n",
       "    .dataframe tbody tr th:only-of-type {\n",
       "        vertical-align: middle;\n",
       "    }\n",
       "\n",
       "    .dataframe tbody tr th {\n",
       "        vertical-align: top;\n",
       "    }\n",
       "\n",
       "    .dataframe thead th {\n",
       "        text-align: right;\n",
       "    }\n",
       "</style>\n",
       "<table border=\"1\" class=\"dataframe\">\n",
       "  <thead>\n",
       "    <tr style=\"text-align: right;\">\n",
       "      <th></th>\n",
       "      <th>date</th>\n",
       "      <th>maintext</th>\n",
       "      <th>title</th>\n",
       "      <th>source</th>\n",
       "      <th>media_name</th>\n",
       "      <th>ideology</th>\n",
       "      <th>Congress</th>\n",
       "      <th>text</th>\n",
       "      <th>lemma</th>\n",
       "    </tr>\n",
       "  </thead>\n",
       "  <tbody>\n",
       "    <tr>\n",
       "      <th>0</th>\n",
       "      <td>2015/02/13</td>\n",
       "      <td>Advertisement\\r\\r\\nIn honor of our 95 annivers...</td>\n",
       "      <td>6 Ways the League of Women Voters Has Impacted...</td>\n",
       "      <td>http://www.huffingtonpost.com/elisabeth-macnam...</td>\n",
       "      <td>Huffington Post</td>\n",
       "      <td>left</td>\n",
       "      <td>114th</td>\n",
       "      <td>honor anniversary list things americans part l...</td>\n",
       "      <td>honor anniversary list thing american part lea...</td>\n",
       "    </tr>\n",
       "    <tr>\n",
       "      <th>1</th>\n",
       "      <td>2015/02/10</td>\n",
       "      <td>As state legislatures shift into high gear, ma...</td>\n",
       "      <td>Opportunities for Effective Election Reforms C...</td>\n",
       "      <td>http://www.huffingtonpost.com/robert-m-brandon...</td>\n",
       "      <td>Huffington Post</td>\n",
       "      <td>left</td>\n",
       "      <td>114th</td>\n",
       "      <td>state legislatures shift high gear election re...</td>\n",
       "      <td>state legislature shift high gear election ref...</td>\n",
       "    </tr>\n",
       "    <tr>\n",
       "      <th>2</th>\n",
       "      <td>2015/02/22</td>\n",
       "      <td>FILE - In a Tuesday, Nov. 4, 2014 file photo, ...</td>\n",
       "      <td>Scott Walker Pushes ALEC 'Right to Work' Bill,...</td>\n",
       "      <td>http://www.huffingtonpost.com/mary-bottari/sco...</td>\n",
       "      <td>Huffington Post</td>\n",
       "      <td>left</td>\n",
       "      <td>114th</td>\n",
       "      <td>file tuesday nov file photo wisconsin republic...</td>\n",
       "      <td>file tuesday nov file photo wisconsin republic...</td>\n",
       "    </tr>\n",
       "    <tr>\n",
       "      <th>3</th>\n",
       "      <td>2015/02/25</td>\n",
       "      <td>Former Ohio Gov. Ted Strickland (D) announced ...</td>\n",
       "      <td>Ted Strickland Announces He's Running For The ...</td>\n",
       "      <td>http://www.huffingtonpost.com/2015/02/25/ted-s...</td>\n",
       "      <td>Huffington Post</td>\n",
       "      <td>left</td>\n",
       "      <td>114th</td>\n",
       "      <td>ohio gov ted strickland announced wednesday ll...</td>\n",
       "      <td>ohio gov ted strickland announced wednesday ll...</td>\n",
       "    </tr>\n",
       "    <tr>\n",
       "      <th>4</th>\n",
       "      <td>2015/02/26</td>\n",
       "      <td>Nevada Senate Minority Leader Michael Roberson...</td>\n",
       "      <td>Nevada GOP Pushes New Gun Law Reminiscent Of '...</td>\n",
       "      <td>http://www.huffingtonpost.com/2015/02/26/nevad...</td>\n",
       "      <td>Huffington Post</td>\n",
       "      <td>left</td>\n",
       "      <td>114th</td>\n",
       "      <td>nevada senate minority leader michael roberson...</td>\n",
       "      <td>nevada senate minority leader michael roberson...</td>\n",
       "    </tr>\n",
       "  </tbody>\n",
       "</table>\n",
       "</div>"
      ],
      "text/plain": [
       "         date                                           maintext  \\\n",
       "0  2015/02/13  Advertisement\\r\\r\\nIn honor of our 95 annivers...   \n",
       "1  2015/02/10  As state legislatures shift into high gear, ma...   \n",
       "2  2015/02/22  FILE - In a Tuesday, Nov. 4, 2014 file photo, ...   \n",
       "3  2015/02/25  Former Ohio Gov. Ted Strickland (D) announced ...   \n",
       "4  2015/02/26  Nevada Senate Minority Leader Michael Roberson...   \n",
       "\n",
       "                                               title  \\\n",
       "0  6 Ways the League of Women Voters Has Impacted...   \n",
       "1  Opportunities for Effective Election Reforms C...   \n",
       "2  Scott Walker Pushes ALEC 'Right to Work' Bill,...   \n",
       "3  Ted Strickland Announces He's Running For The ...   \n",
       "4  Nevada GOP Pushes New Gun Law Reminiscent Of '...   \n",
       "\n",
       "                                              source       media_name  \\\n",
       "0  http://www.huffingtonpost.com/elisabeth-macnam...  Huffington Post   \n",
       "1  http://www.huffingtonpost.com/robert-m-brandon...  Huffington Post   \n",
       "2  http://www.huffingtonpost.com/mary-bottari/sco...  Huffington Post   \n",
       "3  http://www.huffingtonpost.com/2015/02/25/ted-s...  Huffington Post   \n",
       "4  http://www.huffingtonpost.com/2015/02/26/nevad...  Huffington Post   \n",
       "\n",
       "  ideology Congress                                               text  \\\n",
       "0     left    114th  honor anniversary list things americans part l...   \n",
       "1     left    114th  state legislatures shift high gear election re...   \n",
       "2     left    114th  file tuesday nov file photo wisconsin republic...   \n",
       "3     left    114th  ohio gov ted strickland announced wednesday ll...   \n",
       "4     left    114th  nevada senate minority leader michael roberson...   \n",
       "\n",
       "                                               lemma  \n",
       "0  honor anniversary list thing american part lea...  \n",
       "1  state legislature shift high gear election ref...  \n",
       "2  file tuesday nov file photo wisconsin republic...  \n",
       "3  ohio gov ted strickland announced wednesday ll...  \n",
       "4  nevada senate minority leader michael roberson...  "
      ]
     },
     "execution_count": 14,
     "metadata": {},
     "output_type": "execute_result"
    }
   ],
   "source": [
    "df.head()"
   ]
  },
  {
   "cell_type": "code",
   "execution_count": 21,
   "metadata": {},
   "outputs": [
    {
     "data": {
      "text/plain": [
       "'this be a sentence , begin video clip to demonstrate u.s. how the function works...!'"
      ]
     },
     "execution_count": 21,
     "metadata": {},
     "output_type": "execute_result"
    }
   ],
   "source": [
    "test_sentence = \"this is a sentences , begin video clip to demonstrate u.s. how the function works...!\"\n",
    "\n",
    "lemma(test_sentence)"
   ]
  },
  {
   "cell_type": "code",
   "execution_count": 17,
   "metadata": {},
   "outputs": [
    {
     "data": {
      "text/plain": [
       "'ohio gov ted strickland announced wednesday ll seek democratic senate nomination challenge term sen rob portman ohio running united_states senate determined restore american dream working people country strickland statement cleveland plain dealer american dream lived strickland told huffington post plan run senate left position president center american progress action fund began fundraising bid earlier month high recognition state served term congress winning governorship year member cincinnati city council announced january run democratic primary seat pundit speculated eventually drop give strickland clear path nomination state democrat faced tough cycle republican swept ohio statewide race year strickland progressive stance generate needed energy top ticket ohio voter elected sen sherrod brown senate find strickland progressive viewpoint appealing strickland lost gubernatorial reelection gov john kasich republican wave year'"
      ]
     },
     "execution_count": 17,
     "metadata": {},
     "output_type": "execute_result"
    }
   ],
   "source": [
    "df['lemma'][3]"
   ]
  },
  {
   "cell_type": "markdown",
   "metadata": {},
   "source": [
    "## Word Frequencies"
   ]
  },
  {
   "cell_type": "code",
   "execution_count": 64,
   "metadata": {},
   "outputs": [],
   "source": [
    "# creating two different datasets for media split by ideology\n",
    "ideology = df.groupby(\"ideology\")\n",
    "left = ideology.get_group('left')\n",
    "right = ideology.get_group('right')"
   ]
  },
  {
   "cell_type": "code",
   "execution_count": 59,
   "metadata": {},
   "outputs": [],
   "source": [
    "# Finding top words in overall corpus\n",
    "cnt_df = (pd.DataFrame(Counter(\" \".join(df[\"text\"]).split(\" \")).most_common(10))) \n",
    "cnt_df.columns=['df', 'freq']\n",
    "\n",
    "# Top right media words\n",
    "cnt_right = (pd.DataFrame(Counter(\" \".join(right[\"text\"]).split(\" \")).most_common(10)))\n",
    "cnt_right.columns=['right', 'freq']\n",
    "\n",
    "# Top left media words\n",
    "cnt_left = (pd.DataFrame(Counter(\" \".join(left[\"text\"]).split(\" \")).most_common(10)))\n",
    "cnt_left.columns=['left', 'freq']"
   ]
  },
  {
   "cell_type": "code",
   "execution_count": 60,
   "metadata": {},
   "outputs": [
    {
     "data": {
      "text/html": [
       "<div>\n",
       "<style scoped>\n",
       "    .dataframe tbody tr th:only-of-type {\n",
       "        vertical-align: middle;\n",
       "    }\n",
       "\n",
       "    .dataframe tbody tr th {\n",
       "        vertical-align: top;\n",
       "    }\n",
       "\n",
       "    .dataframe thead th {\n",
       "        text-align: right;\n",
       "    }\n",
       "</style>\n",
       "<table border=\"1\" class=\"dataframe\">\n",
       "  <thead>\n",
       "    <tr style=\"text-align: right;\">\n",
       "      <th></th>\n",
       "      <th>df</th>\n",
       "      <th>freq</th>\n",
       "      <th>left</th>\n",
       "      <th>freq</th>\n",
       "      <th>right</th>\n",
       "      <th>freq</th>\n",
       "    </tr>\n",
       "  </thead>\n",
       "  <tbody>\n",
       "    <tr>\n",
       "      <th>0</th>\n",
       "      <td>voting</td>\n",
       "      <td>26411</td>\n",
       "      <td>voting</td>\n",
       "      <td>20891</td>\n",
       "      <td>election</td>\n",
       "      <td>6867</td>\n",
       "    </tr>\n",
       "    <tr>\n",
       "      <th>1</th>\n",
       "      <td>state</td>\n",
       "      <td>23817</td>\n",
       "      <td>state</td>\n",
       "      <td>17847</td>\n",
       "      <td>voter</td>\n",
       "      <td>6356</td>\n",
       "    </tr>\n",
       "    <tr>\n",
       "      <th>2</th>\n",
       "      <td>election</td>\n",
       "      <td>22792</td>\n",
       "      <td>election</td>\n",
       "      <td>15925</td>\n",
       "      <td>state</td>\n",
       "      <td>5970</td>\n",
       "    </tr>\n",
       "    <tr>\n",
       "      <th>3</th>\n",
       "      <td>voter</td>\n",
       "      <td>21199</td>\n",
       "      <td>voter</td>\n",
       "      <td>14843</td>\n",
       "      <td>voting</td>\n",
       "      <td>5520</td>\n",
       "    </tr>\n",
       "    <tr>\n",
       "      <th>4</th>\n",
       "      <td>voters</td>\n",
       "      <td>16726</td>\n",
       "      <td>voters</td>\n",
       "      <td>12987</td>\n",
       "      <td>people</td>\n",
       "      <td>4943</td>\n",
       "    </tr>\n",
       "    <tr>\n",
       "      <th>5</th>\n",
       "      <td>vote</td>\n",
       "      <td>16215</td>\n",
       "      <td>trump</td>\n",
       "      <td>11906</td>\n",
       "      <td>vote</td>\n",
       "      <td>4386</td>\n",
       "    </tr>\n",
       "    <tr>\n",
       "      <th>6</th>\n",
       "      <td>trump</td>\n",
       "      <td>15446</td>\n",
       "      <td>vote</td>\n",
       "      <td>11829</td>\n",
       "      <td>id</td>\n",
       "      <td>4120</td>\n",
       "    </tr>\n",
       "    <tr>\n",
       "      <th>7</th>\n",
       "      <td>law</td>\n",
       "      <td>15216</td>\n",
       "      <td>law</td>\n",
       "      <td>11388</td>\n",
       "      <td>democrats</td>\n",
       "      <td>3894</td>\n",
       "    </tr>\n",
       "    <tr>\n",
       "      <th>8</th>\n",
       "      <td>people</td>\n",
       "      <td>14679</td>\n",
       "      <td>rights</td>\n",
       "      <td>11078</td>\n",
       "      <td>law</td>\n",
       "      <td>3828</td>\n",
       "    </tr>\n",
       "    <tr>\n",
       "      <th>9</th>\n",
       "      <td>states</td>\n",
       "      <td>13367</td>\n",
       "      <td>states</td>\n",
       "      <td>10102</td>\n",
       "      <td>voters</td>\n",
       "      <td>3739</td>\n",
       "    </tr>\n",
       "  </tbody>\n",
       "</table>\n",
       "</div>"
      ],
      "text/plain": [
       "         df   freq      left   freq      right  freq\n",
       "0    voting  26411    voting  20891   election  6867\n",
       "1     state  23817     state  17847      voter  6356\n",
       "2  election  22792  election  15925      state  5970\n",
       "3     voter  21199     voter  14843     voting  5520\n",
       "4    voters  16726    voters  12987     people  4943\n",
       "5      vote  16215     trump  11906       vote  4386\n",
       "6     trump  15446      vote  11829         id  4120\n",
       "7       law  15216       law  11388  democrats  3894\n",
       "8    people  14679    rights  11078        law  3828\n",
       "9    states  13367    states  10102     voters  3739"
      ]
     },
     "execution_count": 60,
     "metadata": {},
     "output_type": "execute_result"
    }
   ],
   "source": [
    "cnt = [cnt_df, cnt_left, cnt_right]\n",
    "result = pd.concat(cnt, axis=1)\n",
    "result"
   ]
  },
  {
   "cell_type": "code",
   "execution_count": 108,
   "metadata": {},
   "outputs": [],
   "source": [
    "# Defining function to plot top words\n",
    "import pandas as pd\n",
    "import matplotlib.pyplot as plt\n",
    "\n",
    "def scatterplot(df, x_dim, y_dim):\n",
    "  x = df[x_dim]\n",
    "  y = df[y_dim]\n",
    "  fig, ax = plt.subplots(figsize=(15, 7))\n",
    "  #customizes alpha for each dot in the scatter plot\n",
    "  ax.scatter(x, y, alpha=0.70)\n",
    " \n",
    "  #adds a title and axes labels\n",
    "  ax.set_title('Word Frequencies')\n",
    "  ax.set_xlabel('Frequency')\n",
    "  ax.set_ylabel('Word')\n",
    " \n",
    "  #removing top and right borders\n",
    "  ax.spines['top'].set_visible(False)\n",
    "  ax.spines['right'].set_visible(False)\n",
    "  #adds major gridlines\n",
    "  ax.grid(color='grey', linestyle='-', linewidth=0.25, alpha=0.5)\n",
    "  plt.show()"
   ]
  },
  {
   "cell_type": "code",
   "execution_count": 109,
   "metadata": {},
   "outputs": [
    {
     "data": {
      "image/png": "[encoded data removed]",
      "text/plain": [
       "<Figure size 1080x504 with 1 Axes>"
      ]
     },
     "metadata": {
      "needs_background": "light"
     },
     "output_type": "display_data"
    }
   ],
   "source": [
    "# Plotting top words\n",
    "scatterplot(cnt_df, 'freq', 'df')"
   ]
  },
  {
   "cell_type": "code",
   "execution_count": 110,
   "metadata": {},
   "outputs": [],
   "source": [
    "# preprocess title\n",
    "df['pptitle']=df['title'].apply(str) # Converting text column into string so that preprocessing works\n",
    "df['pptitle'] = df['pptitle'].apply(nostop)\n",
    "df['pptitle'] = df['pptitle'].apply(preprocess)\n",
    "df['pptitle'] = df['pptitle'].apply(idfwords)\n",
    "df['pptitle'] = df['pptitle'].apply(bigrams)"
   ]
  },
  {
   "cell_type": "code",
   "execution_count": 29,
   "metadata": {},
   "outputs": [
    {
     "data": {
      "text/plain": [
       "19705018"
      ]
     },
     "execution_count": 29,
     "metadata": {},
     "output_type": "execute_result"
    }
   ],
   "source": [
    "# Checking amount of words after preprocessing\n",
    "text =df['text'].apply(str) \n",
    "tokens = [\" \".join(strings.split()) for strings in text] \n",
    "string = \" \".join(tokens)\n",
    "tokenized = word_tokenize(string)\n",
    "len(string)"
   ]
  },
  {
   "cell_type": "code",
   "execution_count": 28,
   "metadata": {},
   "outputs": [],
   "source": [
    "# save data to csv file\n",
    "df.to_csv('preprocessed.csv', index = False)"
   ]
  },
  {
   "cell_type": "code",
   "execution_count": 65,
   "metadata": {},
   "outputs": [],
   "source": [
    "# export text data to txt file for Iramuteq analysis\n",
    "# left media\n",
    "articles_l =left['lemma'].apply(str) \n",
    "with open('articles_left.txt', 'w') as f:\n",
    "    for line in articles_l:\n",
    "        f.write(line)\n",
    "        f.write(' ')\n",
    "\n",
    "# right media\n",
    "articles_r =right['lemma'].apply(str) \n",
    "with open('articles_right.txt', 'w') as f:\n",
    "    for line in articles_r:\n",
    "        f.write(line)\n",
    "        f.write(' ')"
   ]
  },
  {
   "cell_type": "code",
   "execution_count": null,
   "metadata": {},
   "outputs": [],
   "source": [
    "# all articles\n",
    "articletext = df['text'].apply(str) \n",
    "with open('text.txt', 'w') as f:\n",
    "    for line in articletext:\n",
    "        f.write(line)\n",
    "        f.write(' ')"
   ]
  }
 ],
 "metadata": {
  "interpreter": {
   "hash": "98a3d57d6555b287d57a6e94fda6c04b60c6fddf99ca785e6b35ed0d66da8c0f"
  },
  "kernelspec": {
   "display_name": "Python 3.9.12 64-bit (windows store)",
   "language": "python",
   "name": "python3"
  },
  "language_info": {
   "codemirror_mode": {
    "name": "ipython",
    "version": 3
   },
   "file_extension": ".py",
   "mimetype": "text/x-python",
   "name": "python",
   "nbconvert_exporter": "python",
   "pygments_lexer": "ipython3",
   "version": "3.9.13"
  },
  "orig_nbformat": 4
 },
 "nbformat": 4,
 "nbformat_minor": 2
}
