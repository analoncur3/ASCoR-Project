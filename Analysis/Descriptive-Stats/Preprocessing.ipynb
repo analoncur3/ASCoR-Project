{
 "cells": [
  {
   "cell_type": "code",
   "execution_count": null,
   "metadata": {},
   "outputs": [],
   "source": [
    "# Installing modules\n",
    "!pip install nltk\n",
    "!pip install pandas\n",
    "!pip install numpy\n",
    "!pip install matplotlib\n",
    "!pip install sklearn"
   ]
  },
  {
   "cell_type": "code",
   "execution_count": 1,
   "metadata": {},
   "outputs": [
    {
     "name": "stderr",
     "output_type": "stream",
     "text": [
      "[nltk_data] Downloading package punkt to\n",
      "[nltk_data]     C:\\Users\\analo\\AppData\\Roaming\\nltk_data...\n",
      "[nltk_data]   Package punkt is already up-to-date!\n",
      "[nltk_data] Downloading package wordnet to\n",
      "[nltk_data]     C:\\Users\\analo\\AppData\\Roaming\\nltk_data...\n",
      "[nltk_data]   Package wordnet is already up-to-date!\n",
      "[nltk_data] Downloading package averaged_perceptron_tagger to\n",
      "[nltk_data]     C:\\Users\\analo\\AppData\\Roaming\\nltk_data...\n",
      "[nltk_data]   Package averaged_perceptron_tagger is already up-to-\n",
      "[nltk_data]       date!\n"
     ]
    }
   ],
   "source": [
    "# Importing modules\n",
    "import re, nltk, numpy, matplotlib\n",
    "import pandas as pd\n",
    "nltk.download('punkt')\n",
    "nltk.download('wordnet')\n",
    "nltk.download('averaged_perceptron_tagger')\n",
    "from nltk.stem import WordNetLemmatizer, PorterStemmer, SnowballStemmer\n",
    "from nltk.corpus import stopwords\n",
    "from nltk.tokenize import word_tokenize\n",
    "from sklearn.feature_extraction.text import CountVectorizer, TfidfVectorizer, TfidfTransformer \n",
    "from sklearn.decomposition import LatentDirichletAllocation\n",
    "from gensim import corpora\n",
    "from collections import Counter"
   ]
  },
  {
   "cell_type": "code",
   "execution_count": 2,
   "metadata": {},
   "outputs": [
    {
     "data": {
      "text/html": [
       "<div>\n",
       "<style scoped>\n",
       "    .dataframe tbody tr th:only-of-type {\n",
       "        vertical-align: middle;\n",
       "    }\n",
       "\n",
       "    .dataframe tbody tr th {\n",
       "        vertical-align: top;\n",
       "    }\n",
       "\n",
       "    .dataframe thead th {\n",
       "        text-align: right;\n",
       "    }\n",
       "</style>\n",
       "<table border=\"1\" class=\"dataframe\">\n",
       "  <thead>\n",
       "    <tr style=\"text-align: right;\">\n",
       "      <th></th>\n",
       "      <th>date</th>\n",
       "      <th>maintext</th>\n",
       "      <th>title</th>\n",
       "      <th>source</th>\n",
       "      <th>media_name</th>\n",
       "      <th>ideology</th>\n",
       "      <th>Congress</th>\n",
       "    </tr>\n",
       "  </thead>\n",
       "  <tbody>\n",
       "    <tr>\n",
       "      <th>0</th>\n",
       "      <td>2015/02/13</td>\n",
       "      <td>Advertisement\\r\\r\\nIn honor of our 95 annivers...</td>\n",
       "      <td>6 Ways the League of Women Voters Has Impacted...</td>\n",
       "      <td>http://www.huffingtonpost.com/elisabeth-macnam...</td>\n",
       "      <td>Huffington Post</td>\n",
       "      <td>left</td>\n",
       "      <td>114th</td>\n",
       "    </tr>\n",
       "    <tr>\n",
       "      <th>1</th>\n",
       "      <td>2015/02/10</td>\n",
       "      <td>As state legislatures shift into high gear, ma...</td>\n",
       "      <td>Opportunities for Effective Election Reforms C...</td>\n",
       "      <td>http://www.huffingtonpost.com/robert-m-brandon...</td>\n",
       "      <td>Huffington Post</td>\n",
       "      <td>left</td>\n",
       "      <td>114th</td>\n",
       "    </tr>\n",
       "    <tr>\n",
       "      <th>2</th>\n",
       "      <td>2015/02/22</td>\n",
       "      <td>FILE - In a Tuesday, Nov. 4, 2014 file photo, ...</td>\n",
       "      <td>Scott Walker Pushes ALEC 'Right to Work' Bill,...</td>\n",
       "      <td>http://www.huffingtonpost.com/mary-bottari/sco...</td>\n",
       "      <td>Huffington Post</td>\n",
       "      <td>left</td>\n",
       "      <td>114th</td>\n",
       "    </tr>\n",
       "    <tr>\n",
       "      <th>3</th>\n",
       "      <td>2015/02/25</td>\n",
       "      <td>Former Ohio Gov. Ted Strickland (D) announced ...</td>\n",
       "      <td>Ted Strickland Announces He's Running For The ...</td>\n",
       "      <td>http://www.huffingtonpost.com/2015/02/25/ted-s...</td>\n",
       "      <td>Huffington Post</td>\n",
       "      <td>left</td>\n",
       "      <td>114th</td>\n",
       "    </tr>\n",
       "    <tr>\n",
       "      <th>4</th>\n",
       "      <td>2015/02/26</td>\n",
       "      <td>Nevada Senate Minority Leader Michael Roberson...</td>\n",
       "      <td>Nevada GOP Pushes New Gun Law Reminiscent Of '...</td>\n",
       "      <td>http://www.huffingtonpost.com/2015/02/26/nevad...</td>\n",
       "      <td>Huffington Post</td>\n",
       "      <td>left</td>\n",
       "      <td>114th</td>\n",
       "    </tr>\n",
       "  </tbody>\n",
       "</table>\n",
       "</div>"
      ],
      "text/plain": [
       "         date                                           maintext  \\\n",
       "0  2015/02/13  Advertisement\\r\\r\\nIn honor of our 95 annivers...   \n",
       "1  2015/02/10  As state legislatures shift into high gear, ma...   \n",
       "2  2015/02/22  FILE - In a Tuesday, Nov. 4, 2014 file photo, ...   \n",
       "3  2015/02/25  Former Ohio Gov. Ted Strickland (D) announced ...   \n",
       "4  2015/02/26  Nevada Senate Minority Leader Michael Roberson...   \n",
       "\n",
       "                                               title  \\\n",
       "0  6 Ways the League of Women Voters Has Impacted...   \n",
       "1  Opportunities for Effective Election Reforms C...   \n",
       "2  Scott Walker Pushes ALEC 'Right to Work' Bill,...   \n",
       "3  Ted Strickland Announces He's Running For The ...   \n",
       "4  Nevada GOP Pushes New Gun Law Reminiscent Of '...   \n",
       "\n",
       "                                              source       media_name  \\\n",
       "0  http://www.huffingtonpost.com/elisabeth-macnam...  Huffington Post   \n",
       "1  http://www.huffingtonpost.com/robert-m-brandon...  Huffington Post   \n",
       "2  http://www.huffingtonpost.com/mary-bottari/sco...  Huffington Post   \n",
       "3  http://www.huffingtonpost.com/2015/02/25/ted-s...  Huffington Post   \n",
       "4  http://www.huffingtonpost.com/2015/02/26/nevad...  Huffington Post   \n",
       "\n",
       "  ideology Congress  \n",
       "0     left    114th  \n",
       "1     left    114th  \n",
       "2     left    114th  \n",
       "3     left    114th  \n",
       "4     left    114th  "
      ]
     },
     "execution_count": 2,
     "metadata": {},
     "output_type": "execute_result"
    }
   ],
   "source": [
    "# load categorised data by media ideological affiliation\n",
    "df = pd.read_csv('C:/Users/analo/OneDrive - University of Glasgow/University of Glasgow/Amsterdam Visit/ASCoR-Project/Data Files/finalcorpus.csv', encoding='latin-1')\n",
    "df.head()  "
   ]
  },
  {
   "cell_type": "code",
   "execution_count": 21,
   "metadata": {},
   "outputs": [
    {
     "data": {
      "text/plain": [
       "6371235"
      ]
     },
     "execution_count": 21,
     "metadata": {},
     "output_type": "execute_result"
    }
   ],
   "source": [
    "# counting words of original text \n",
    "from nltk.tokenize import word_tokenize\n",
    "text =df['maintext'].apply(str) \n",
    "documents = [\" \".join(strings.split()) for strings in text] \n",
    "string = \" \".join(documents)\n",
    "tokenized = word_tokenize(string)\n",
    "len(tokenized)"
   ]
  },
  {
   "cell_type": "markdown",
   "metadata": {},
   "source": [
    "## Pre-processing corpus"
   ]
  },
  {
   "cell_type": "code",
   "execution_count": 141,
   "metadata": {},
   "outputs": [],
   "source": [
    "stop_words_file = 'C:/Users/analo/OneDrive - University of Glasgow/University of Glasgow/Amsterdam Visit/ASCoR-Project/Analysis/Descriptive-Stats/english.stop.txt' # Stopword list\n",
    "new_stopwords = ['Opinion', 'New', 'Advertisement', 'advertisement','Mr', 'Advertisement\\r\\r\\n'] # irrelevant words to add to stopword list and common words with a low idf score\n",
    "idf_words = ['state', 'states','voting', 'election', 'vote', 'voters', 'voter'] # words with low idf score in entire corpus\n",
    "stop_words = []\n",
    "\n",
    "with open(stop_words_file, \"r\") as f:\n",
    "    for line in f:\n",
    "        stop_words.extend(line.split()) \n",
    "        \n",
    "stop_words = stop_words  "
   ]
  },
  {
   "cell_type": "markdown",
   "metadata": {},
   "source": [
    "### Removing capitalised words we're not interested in"
   ]
  },
  {
   "cell_type": "code",
   "execution_count": 23,
   "metadata": {},
   "outputs": [],
   "source": [
    "# removing capitalised irrelevant words from corpus\n",
    "def nostop(raw_text):\n",
    "    \n",
    "    #regular expression keeping only letters \n",
    "    letters_only_text = re.sub(\"[^a-zA-Z]\", \" \", raw_text)\n",
    "\n",
    "     #split into words -> convert string into list\n",
    "    words = letters_only_text.split()\n",
    "    words =[\" \".join(words.split()) for words in words]   # remove double spaces by splitting the strings into words and joining these words again\n",
    "    \n",
    "    # remove new stopwords\n",
    "    cleaned_words = []\n",
    "    for word in words:\n",
    "        if word not in new_stopwords:\n",
    "            cleaned_words.append(word)\n",
    "\n",
    "    # converting list back to string\n",
    "    return \" \".join(cleaned_words)"
   ]
  },
  {
   "cell_type": "markdown",
   "metadata": {},
   "source": [
    "### Converting to lower case and removing stop words"
   ]
  },
  {
   "cell_type": "code",
   "execution_count": 24,
   "metadata": {},
   "outputs": [],
   "source": [
    "def preprocess(raw_text):\n",
    "    \n",
    "    #regular expression keeping only letters \n",
    "    letters_only_text = re.sub(\"[^a-zA-Z]\", \" \", raw_text)\n",
    "\n",
    "     # convert to lower case and split into words -> convert string into list\n",
    "    words = letters_only_text.lower().split()\n",
    "    words=[\" \".join(words.split()) for words in words]   # remove double spaces by splitting the strings into words and joining these words again\n",
    "\n",
    "    cleaned_words = []    \n",
    "    # remove stopwords\n",
    "    for word in words:\n",
    "        if word not in stop_words:\n",
    "            cleaned_words.append(word)\n",
    "\n",
    "    # converting list back to string\n",
    "    return \" \".join(cleaned_words)"
   ]
  },
  {
   "cell_type": "markdown",
   "metadata": {},
   "source": [
    "### removing low idf score words"
   ]
  },
  {
   "cell_type": "code",
   "execution_count": 128,
   "metadata": {},
   "outputs": [],
   "source": [
    "def idfwords(raw_text):\n",
    "    \n",
    "    #regular expression keeping only letters \n",
    "    letters_only_text = re.sub(\"[^a-zA-Z]\", \" \", raw_text)\n",
    "\n",
    "     # convert to lower case and split into words -> convert string into list\n",
    "    words = letters_only_text.lower().split()\n",
    "    words=[\" \".join(words.split()) for words in words]   # remove double spaces by splitting the strings into words and joining these words again\n",
    "\n",
    "    cleaned_words = []    \n",
    "    # remove stopwords\n",
    "    for word in words:\n",
    "        if word not in idf_words:\n",
    "            cleaned_words.append(word)\n",
    "\n",
    "    # converting list back to string\n",
    "    return \" \".join(cleaned_words)"
   ]
  },
  {
   "cell_type": "code",
   "execution_count": 27,
   "metadata": {},
   "outputs": [
    {
     "data": {
      "text/plain": [
       "'to how the preprocessing function works'"
      ]
     },
     "execution_count": 27,
     "metadata": {},
     "output_type": "execute_result"
    }
   ],
   "source": [
    "test_sentence1 = \"Opinion to advertisement New how the preprocessing function works...!\"\n",
    "nostop(test_sentence1)"
   ]
  },
  {
   "cell_type": "code",
   "execution_count": 28,
   "metadata": {},
   "outputs": [
    {
     "data": {
      "text/plain": [
       "'opinion advertisement preprocessing function works'"
      ]
     },
     "execution_count": 28,
     "metadata": {},
     "output_type": "execute_result"
    }
   ],
   "source": [
    "test_sentence2 = \"this is a Opinion to advertisement New how the preprocessing function works...!\"\n",
    "preprocess(test_sentence2)\n"
   ]
  },
  {
   "cell_type": "code",
   "execution_count": 131,
   "metadata": {},
   "outputs": [
    {
     "data": {
      "text/plain": [
       "'states advertisement preprocessing function works'"
      ]
     },
     "execution_count": 131,
     "metadata": {},
     "output_type": "execute_result"
    }
   ],
   "source": [
    "test_sentence3 = \"this is a states to advertisement New how the preprocessing function works...!\"\n",
    "preprocess(test_sentence3)"
   ]
  },
  {
   "cell_type": "code",
   "execution_count": null,
   "metadata": {},
   "outputs": [],
   "source": [
    "df['maintext']=df['maintext'].apply(str) # Converting text column into string so that preprocessing works\n",
    "df['text_cap'] = df['maintext'].apply(nostop)\n",
    "df['text'] = df['text_cap'].apply(preprocess)\n",
    "df.head()"
   ]
  },
  {
   "cell_type": "code",
   "execution_count": 142,
   "metadata": {},
   "outputs": [
    {
     "data": {
      "text/plain": [
       "'usa today'"
      ]
     },
     "execution_count": 142,
     "metadata": {},
     "output_type": "execute_result"
    }
   ],
   "source": [
    "# preprocess title\n",
    "df['title']=df['title'].apply(str) # Converting text column into string so that preprocessing works\n",
    "df['title'] = df['title'].apply(nostop)\n",
    "df['title'] = df['title'].apply(preprocess)\n",
    "df['title'] = df['title'].apply(idfwords)\n",
    "df.head()\n",
    "\n",
    "df['title'][7]"
   ]
  },
  {
   "cell_type": "code",
   "execution_count": 30,
   "metadata": {},
   "outputs": [
    {
     "data": {
      "text/plain": [
       "2550266"
      ]
     },
     "execution_count": 30,
     "metadata": {},
     "output_type": "execute_result"
    }
   ],
   "source": [
    "# Checking amount of words after preprocessing\n",
    "text =df['text'].apply(str) \n",
    "tokens = [\" \".join(strings.split()) for strings in text] \n",
    "string = \" \".join(tokens)\n",
    "tokenized = word_tokenize(string)\n",
    "len(tokenized)"
   ]
  },
  {
   "cell_type": "code",
   "execution_count": 31,
   "metadata": {},
   "outputs": [],
   "source": [
    "# Filtering words that appear less than 3 times overall\n",
    "from collections import Counter\n",
    "from itertools import chain\n",
    "\n",
    "# split words into lists\n",
    "v = df['text'].str.split().tolist() # [s.split() for s in df['Col2'].tolist()]\n",
    "# compute global word frequency\n",
    "c = Counter(chain.from_iterable(v))\n",
    "# filter, join, and re-assign\n",
    "df['text'] = [' '.join([j for j in i if c[j] > 3]) for i in v]"
   ]
  },
  {
   "cell_type": "code",
   "execution_count": 32,
   "metadata": {},
   "outputs": [
    {
     "data": {
      "text/plain": [
       "2511272"
      ]
     },
     "execution_count": 32,
     "metadata": {},
     "output_type": "execute_result"
    }
   ],
   "source": [
    "# Checking amount of words after preprocessing\n",
    "text =df['text'].apply(str) \n",
    "tokens = [\" \".join(strings.split()) for strings in text] \n",
    "string = \" \".join(tokens)\n",
    "tokenized = word_tokenize(string)\n",
    "len(tokenized)"
   ]
  },
  {
   "cell_type": "markdown",
   "metadata": {},
   "source": [
    "## Word Frequencies"
   ]
  },
  {
   "cell_type": "code",
   "execution_count": 40,
   "metadata": {},
   "outputs": [
    {
     "data": {
      "text/plain": [
       "1714"
      ]
     },
     "execution_count": 40,
     "metadata": {},
     "output_type": "execute_result"
    }
   ],
   "source": [
    "# creating two different datasets for media split by ideology\n",
    "ideology = df.groupby(\"ideology\")\n",
    "left = ideology.get_group('left')\n",
    "right = ideology.get_group('right')"
   ]
  },
  {
   "cell_type": "code",
   "execution_count": 69,
   "metadata": {},
   "outputs": [
    {
     "data": {
      "text/html": [
       "<div>\n",
       "<style scoped>\n",
       "    .dataframe tbody tr th:only-of-type {\n",
       "        vertical-align: middle;\n",
       "    }\n",
       "\n",
       "    .dataframe tbody tr th {\n",
       "        vertical-align: top;\n",
       "    }\n",
       "\n",
       "    .dataframe thead th {\n",
       "        text-align: right;\n",
       "    }\n",
       "</style>\n",
       "<table border=\"1\" class=\"dataframe\">\n",
       "  <thead>\n",
       "    <tr style=\"text-align: right;\">\n",
       "      <th></th>\n",
       "      <th>word</th>\n",
       "      <th>freq</th>\n",
       "    </tr>\n",
       "  </thead>\n",
       "  <tbody>\n",
       "    <tr>\n",
       "      <th>0</th>\n",
       "      <td>election</td>\n",
       "      <td>6867</td>\n",
       "    </tr>\n",
       "    <tr>\n",
       "      <th>1</th>\n",
       "      <td>voter</td>\n",
       "      <td>6356</td>\n",
       "    </tr>\n",
       "    <tr>\n",
       "      <th>2</th>\n",
       "      <td>state</td>\n",
       "      <td>5970</td>\n",
       "    </tr>\n",
       "    <tr>\n",
       "      <th>3</th>\n",
       "      <td>voting</td>\n",
       "      <td>5520</td>\n",
       "    </tr>\n",
       "    <tr>\n",
       "      <th>4</th>\n",
       "      <td>people</td>\n",
       "      <td>4943</td>\n",
       "    </tr>\n",
       "    <tr>\n",
       "      <th>5</th>\n",
       "      <td>vote</td>\n",
       "      <td>4386</td>\n",
       "    </tr>\n",
       "    <tr>\n",
       "      <th>6</th>\n",
       "      <td>id</td>\n",
       "      <td>4120</td>\n",
       "    </tr>\n",
       "    <tr>\n",
       "      <th>7</th>\n",
       "      <td>democrats</td>\n",
       "      <td>3894</td>\n",
       "    </tr>\n",
       "    <tr>\n",
       "      <th>8</th>\n",
       "      <td>law</td>\n",
       "      <td>3828</td>\n",
       "    </tr>\n",
       "    <tr>\n",
       "      <th>9</th>\n",
       "      <td>voters</td>\n",
       "      <td>3739</td>\n",
       "    </tr>\n",
       "    <tr>\n",
       "      <th>10</th>\n",
       "      <td>trump</td>\n",
       "      <td>3540</td>\n",
       "    </tr>\n",
       "    <tr>\n",
       "      <th>11</th>\n",
       "      <td>president</td>\n",
       "      <td>3538</td>\n",
       "    </tr>\n",
       "    <tr>\n",
       "      <th>12</th>\n",
       "      <td>biden</td>\n",
       "      <td>3471</td>\n",
       "    </tr>\n",
       "    <tr>\n",
       "      <th>13</th>\n",
       "      <td>states</td>\n",
       "      <td>3265</td>\n",
       "    </tr>\n",
       "    <tr>\n",
       "      <th>14</th>\n",
       "      <td>bill</td>\n",
       "      <td>2807</td>\n",
       "    </tr>\n",
       "    <tr>\n",
       "      <th>15</th>\n",
       "      <td>news</td>\n",
       "      <td>2680</td>\n",
       "    </tr>\n",
       "    <tr>\n",
       "      <th>16</th>\n",
       "      <td>elections</td>\n",
       "      <td>2674</td>\n",
       "    </tr>\n",
       "    <tr>\n",
       "      <th>17</th>\n",
       "      <td>laws</td>\n",
       "      <td>2605</td>\n",
       "    </tr>\n",
       "    <tr>\n",
       "      <th>18</th>\n",
       "      <td>republican</td>\n",
       "      <td>2494</td>\n",
       "    </tr>\n",
       "    <tr>\n",
       "      <th>19</th>\n",
       "      <td>georgia</td>\n",
       "      <td>2438</td>\n",
       "    </tr>\n",
       "  </tbody>\n",
       "</table>\n",
       "</div>"
      ],
      "text/plain": [
       "          word  freq\n",
       "0     election  6867\n",
       "1        voter  6356\n",
       "2        state  5970\n",
       "3       voting  5520\n",
       "4       people  4943\n",
       "5         vote  4386\n",
       "6           id  4120\n",
       "7    democrats  3894\n",
       "8          law  3828\n",
       "9       voters  3739\n",
       "10       trump  3540\n",
       "11   president  3538\n",
       "12       biden  3471\n",
       "13      states  3265\n",
       "14        bill  2807\n",
       "15        news  2680\n",
       "16   elections  2674\n",
       "17        laws  2605\n",
       "18  republican  2494\n",
       "19     georgia  2438"
      ]
     },
     "execution_count": 69,
     "metadata": {},
     "output_type": "execute_result"
    }
   ],
   "source": [
    "# Finding top words in overall corpus\n",
    "cnt_df = (pd.DataFrame(Counter(\" \".join(df[\"text\"]).split(\" \")).most_common(20))) #another way of finding most common words in corpus\n",
    "cnt_df.columns=['word', 'freq']\n",
    "\n",
    "# Top right media words\n",
    "cnt_right = (pd.DataFrame(Counter(\" \".join(right[\"text\"]).split(\" \")).most_common(20)))\n",
    "cnt_right.columns=['word', 'freq']\n",
    "\n",
    "# Top left media words\n",
    "cnt_left = (pd.DataFrame(Counter(\" \".join(left[\"text\"]).split(\" \")).most_common(20)))\n",
    "cnt_left.columns=['word', 'freq']"
   ]
  },
  {
   "cell_type": "code",
   "execution_count": 72,
   "metadata": {},
   "outputs": [],
   "source": [
    "# Defining function to plot top words\n",
    "import pandas as pd\n",
    "import matplotlib.pyplot as plt\n",
    "\n",
    "def scatterplot(df, x_dim, y_dim):\n",
    "  x = df[x_dim]\n",
    "  y = df[y_dim]\n",
    "  fig, ax = plt.subplots(figsize=(15, 7))\n",
    "  #customizes alpha for each dot in the scatter plot\n",
    "  ax.scatter(x, y, alpha=0.70)\n",
    " \n",
    "  #adds a title and axes labels\n",
    "  ax.set_title('Word Frequencies')\n",
    "  ax.set_xlabel('Frequency')\n",
    "  ax.set_ylabel('Word')\n",
    " \n",
    "  #removing top and right borders\n",
    "  ax.spines['top'].set_visible(False)\n",
    "  ax.spines['right'].set_visible(False)\n",
    "  #adds major gridlines\n",
    "  ax.grid(color='grey', linestyle='-', linewidth=0.25, alpha=0.5)\n",
    "  plt.show()"
   ]
  },
  {
   "cell_type": "code",
   "execution_count": 74,
   "metadata": {},
   "outputs": [
    {
     "data": {
      "image/png": "[encoded data removed]",
      "text/plain": [
       "<Figure size 1080x504 with 1 Axes>"
      ]
     },
     "metadata": {
      "needs_background": "light"
     },
     "output_type": "display_data"
    }
   ],
   "source": [
    "# Plotting top words\n",
    "scatterplot(cnt_df, 'freq', 'word')"
   ]
  },
  {
   "cell_type": "code",
   "execution_count": 151,
   "metadata": {},
   "outputs": [
    {
     "data": {
      "text/html": [
       "<div>\n",
       "<style scoped>\n",
       "    .dataframe tbody tr th:only-of-type {\n",
       "        vertical-align: middle;\n",
       "    }\n",
       "\n",
       "    .dataframe tbody tr th {\n",
       "        vertical-align: top;\n",
       "    }\n",
       "\n",
       "    .dataframe thead th {\n",
       "        text-align: right;\n",
       "    }\n",
       "</style>\n",
       "<table border=\"1\" class=\"dataframe\">\n",
       "  <thead>\n",
       "    <tr style=\"text-align: right;\">\n",
       "      <th></th>\n",
       "      <th>word</th>\n",
       "      <th>freq</th>\n",
       "    </tr>\n",
       "  </thead>\n",
       "  <tbody>\n",
       "    <tr>\n",
       "      <th>0</th>\n",
       "      <td>(voting, rights)</td>\n",
       "      <td>7327</td>\n",
       "    </tr>\n",
       "    <tr>\n",
       "      <th>1</th>\n",
       "      <td>(voter, id)</td>\n",
       "      <td>6283</td>\n",
       "    </tr>\n",
       "    <tr>\n",
       "      <th>2</th>\n",
       "      <td>(supreme, court)</td>\n",
       "      <td>4407</td>\n",
       "    </tr>\n",
       "    <tr>\n",
       "      <th>3</th>\n",
       "      <td>(north, carolina)</td>\n",
       "      <td>3582</td>\n",
       "    </tr>\n",
       "    <tr>\n",
       "      <th>4</th>\n",
       "      <td>(united, states)</td>\n",
       "      <td>3319</td>\n",
       "    </tr>\n",
       "    <tr>\n",
       "      <th>5</th>\n",
       "      <td>(civil, rights)</td>\n",
       "      <td>3057</td>\n",
       "    </tr>\n",
       "    <tr>\n",
       "      <th>6</th>\n",
       "      <td>(voter, fraud)</td>\n",
       "      <td>2950</td>\n",
       "    </tr>\n",
       "    <tr>\n",
       "      <th>7</th>\n",
       "      <td>(rights, act)</td>\n",
       "      <td>2688</td>\n",
       "    </tr>\n",
       "    <tr>\n",
       "      <th>8</th>\n",
       "      <td>(voter, registration)</td>\n",
       "      <td>2635</td>\n",
       "    </tr>\n",
       "    <tr>\n",
       "      <th>9</th>\n",
       "      <td>(donald, trump)</td>\n",
       "      <td>2422</td>\n",
       "    </tr>\n",
       "  </tbody>\n",
       "</table>\n",
       "</div>"
      ],
      "text/plain": [
       "                    word  freq\n",
       "0       (voting, rights)  7327\n",
       "1            (voter, id)  6283\n",
       "2       (supreme, court)  4407\n",
       "3      (north, carolina)  3582\n",
       "4       (united, states)  3319\n",
       "5        (civil, rights)  3057\n",
       "6         (voter, fraud)  2950\n",
       "7          (rights, act)  2688\n",
       "8  (voter, registration)  2635\n",
       "9        (donald, trump)  2422"
      ]
     },
     "execution_count": 151,
     "metadata": {},
     "output_type": "execute_result"
    }
   ],
   "source": [
    "# Sorting ngrams by frequency\n",
    "from nltk.util import ngrams\n",
    "n_gram = 2\n",
    "ngram = pd.DataFrame(Counter(ngrams(\" \".join(df[\"text\"]).split(), n_gram)).most_common(10))\n",
    "ngram.columns=['word', 'freq']\n",
    "ngram"
   ]
  },
  {
   "cell_type": "code",
   "execution_count": null,
   "metadata": {},
   "outputs": [],
   "source": [
    "# Finding names in corpus\n",
    "test = df['text_cap'][9]\n",
    "re.findall(r\"[A-Z][a-z]+?\\s+(?:[A-Z][a-z]*\\.?\\s*)?[A-Z][a-z]+\", test)"
   ]
  },
  {
   "cell_type": "markdown",
   "metadata": {},
   "source": [
    "Now that we know common bigrams we can go back to preprocessing and join these in the text so that they are subsequently treated as 1 token instead of 2. The following bigrams are joined:\n",
    "- Supreme court\n",
    "- north carolina\n",
    "- united states\n",
    "- donald trump\n",
    "- white house\n",
    "\n",
    "We also change mr trump to donald trump"
   ]
  },
  {
   "cell_type": "code",
   "execution_count": 145,
   "metadata": {},
   "outputs": [],
   "source": [
    "def bigrams(raw_text):\n",
    "    text = raw_text.replace(\"supreme court\", \"supreme_court\")\n",
    "    text = text.replace(\"donald trump\", \"donald_trump\")\n",
    "    text = text.replace(\"north carolina\", \"north_carolina\")\n",
    "    text = text.replace(\"united states\", \"united_states\")\n",
    "     # convert to lower case and split into words -> convert string into list\n",
    "    words = text.split()\n",
    "    words =[\" \".join(words.split()) for words in words]   # remove double spaces by splitting the strings into words and joining these words again\n",
    "    # converting list back to string\n",
    "    return \" \".join(words)"
   ]
  },
  {
   "cell_type": "code",
   "execution_count": 104,
   "metadata": {},
   "outputs": [
    {
     "data": {
      "text/plain": [
       "'this is a id donald_trump to advertisement New how the preprocessing function works...!'"
      ]
     },
     "execution_count": 104,
     "metadata": {},
     "output_type": "execute_result"
    }
   ],
   "source": [
    "test_sentence3 = \"this is a id donald trump to advertisement New how the preprocessing function works...!\"\n",
    "bigrams(test_sentence3)"
   ]
  },
  {
   "cell_type": "code",
   "execution_count": 146,
   "metadata": {},
   "outputs": [],
   "source": [
    "df['text_bigrams'] = df['text'].apply(bigrams)\n",
    "df['title'] = df['title'].apply(bigrams)"
   ]
  },
  {
   "cell_type": "code",
   "execution_count": null,
   "metadata": {},
   "outputs": [],
   "source": [
    "# Most frequent words\n",
    "cnt_bg = pd.DataFrame(Counter(\" \".join(df[\"text_bigrams\"]).split(\" \")).most_common(60))\n",
    "cnt_bg.columns=['word', 'freq']\n",
    "cnt_bg"
   ]
  },
  {
   "cell_type": "code",
   "execution_count": 126,
   "metadata": {},
   "outputs": [
    {
     "data": {
      "text/html": [
       "<div>\n",
       "<style scoped>\n",
       "    .dataframe tbody tr th:only-of-type {\n",
       "        vertical-align: middle;\n",
       "    }\n",
       "\n",
       "    .dataframe tbody tr th {\n",
       "        vertical-align: top;\n",
       "    }\n",
       "\n",
       "    .dataframe thead th {\n",
       "        text-align: right;\n",
       "    }\n",
       "</style>\n",
       "<table border=\"1\" class=\"dataframe\">\n",
       "  <thead>\n",
       "    <tr style=\"text-align: right;\">\n",
       "      <th></th>\n",
       "      <th>date</th>\n",
       "      <th>maintext</th>\n",
       "      <th>title</th>\n",
       "      <th>source</th>\n",
       "      <th>media_name</th>\n",
       "      <th>ideology</th>\n",
       "      <th>Congress</th>\n",
       "      <th>text</th>\n",
       "      <th>text_cap</th>\n",
       "      <th>text_bigrams</th>\n",
       "    </tr>\n",
       "  </thead>\n",
       "  <tbody>\n",
       "    <tr>\n",
       "      <th>0</th>\n",
       "      <td>2015/02/13</td>\n",
       "      <td>Advertisement\\r\\r\\nIn honor of our 95 annivers...</td>\n",
       "      <td>ways league women voters impacted life</td>\n",
       "      <td>http://www.huffingtonpost.com/elisabeth-macnam...</td>\n",
       "      <td>Huffington Post</td>\n",
       "      <td>left</td>\n",
       "      <td>114th</td>\n",
       "      <td>honor anniversary list things americans part l...</td>\n",
       "      <td>In honor of our anniversary here s a list of s...</td>\n",
       "      <td>honor anniversary list things americans part l...</td>\n",
       "    </tr>\n",
       "    <tr>\n",
       "      <th>1</th>\n",
       "      <td>2015/02/10</td>\n",
       "      <td>As state legislatures shift into high gear, ma...</td>\n",
       "      <td>opportunities effective election reforms spear...</td>\n",
       "      <td>http://www.huffingtonpost.com/robert-m-brandon...</td>\n",
       "      <td>Huffington Post</td>\n",
       "      <td>left</td>\n",
       "      <td>114th</td>\n",
       "      <td>state legislatures shift high gear election re...</td>\n",
       "      <td>As state legislatures shift into high gear man...</td>\n",
       "      <td>state legislatures shift high gear election re...</td>\n",
       "    </tr>\n",
       "    <tr>\n",
       "      <th>2</th>\n",
       "      <td>2015/02/22</td>\n",
       "      <td>FILE - In a Tuesday, Nov. 4, 2014 file photo, ...</td>\n",
       "      <td>scott walker pushes alec work bill divide conq...</td>\n",
       "      <td>http://www.huffingtonpost.com/mary-bottari/sco...</td>\n",
       "      <td>Huffington Post</td>\n",
       "      <td>left</td>\n",
       "      <td>114th</td>\n",
       "      <td>file tuesday nov file photo wisconsin republic...</td>\n",
       "      <td>FILE In a Tuesday Nov file photo Wisconsin Rep...</td>\n",
       "      <td>file tuesday nov file photo wisconsin republic...</td>\n",
       "    </tr>\n",
       "    <tr>\n",
       "      <th>3</th>\n",
       "      <td>2015/02/25</td>\n",
       "      <td>Former Ohio Gov. Ted Strickland (D) announced ...</td>\n",
       "      <td>ted strickland announces running senate</td>\n",
       "      <td>http://www.huffingtonpost.com/2015/02/25/ted-s...</td>\n",
       "      <td>Huffington Post</td>\n",
       "      <td>left</td>\n",
       "      <td>114th</td>\n",
       "      <td>ohio gov ted strickland announced wednesday ll...</td>\n",
       "      <td>Former Ohio Gov Ted Strickland D announced Wed...</td>\n",
       "      <td>ohio gov ted strickland announced wednesday ll...</td>\n",
       "    </tr>\n",
       "    <tr>\n",
       "      <th>4</th>\n",
       "      <td>2015/02/26</td>\n",
       "      <td>Nevada Senate Minority Leader Michael Roberson...</td>\n",
       "      <td>nevada gop pushes gun law reminiscent stand gr...</td>\n",
       "      <td>http://www.huffingtonpost.com/2015/02/26/nevad...</td>\n",
       "      <td>Huffington Post</td>\n",
       "      <td>left</td>\n",
       "      <td>114th</td>\n",
       "      <td>nevada senate minority leader michael roberson...</td>\n",
       "      <td>Nevada Senate Minority Leader Michael Roberson...</td>\n",
       "      <td>nevada senate minority leader michael roberson...</td>\n",
       "    </tr>\n",
       "  </tbody>\n",
       "</table>\n",
       "</div>"
      ],
      "text/plain": [
       "         date                                           maintext  \\\n",
       "0  2015/02/13  Advertisement\\r\\r\\nIn honor of our 95 annivers...   \n",
       "1  2015/02/10  As state legislatures shift into high gear, ma...   \n",
       "2  2015/02/22  FILE - In a Tuesday, Nov. 4, 2014 file photo, ...   \n",
       "3  2015/02/25  Former Ohio Gov. Ted Strickland (D) announced ...   \n",
       "4  2015/02/26  Nevada Senate Minority Leader Michael Roberson...   \n",
       "\n",
       "                                               title  \\\n",
       "0             ways league women voters impacted life   \n",
       "1  opportunities effective election reforms spear...   \n",
       "2  scott walker pushes alec work bill divide conq...   \n",
       "3            ted strickland announces running senate   \n",
       "4  nevada gop pushes gun law reminiscent stand gr...   \n",
       "\n",
       "                                              source       media_name  \\\n",
       "0  http://www.huffingtonpost.com/elisabeth-macnam...  Huffington Post   \n",
       "1  http://www.huffingtonpost.com/robert-m-brandon...  Huffington Post   \n",
       "2  http://www.huffingtonpost.com/mary-bottari/sco...  Huffington Post   \n",
       "3  http://www.huffingtonpost.com/2015/02/25/ted-s...  Huffington Post   \n",
       "4  http://www.huffingtonpost.com/2015/02/26/nevad...  Huffington Post   \n",
       "\n",
       "  ideology Congress                                               text  \\\n",
       "0     left    114th  honor anniversary list things americans part l...   \n",
       "1     left    114th  state legislatures shift high gear election re...   \n",
       "2     left    114th  file tuesday nov file photo wisconsin republic...   \n",
       "3     left    114th  ohio gov ted strickland announced wednesday ll...   \n",
       "4     left    114th  nevada senate minority leader michael roberson...   \n",
       "\n",
       "                                            text_cap  \\\n",
       "0  In honor of our anniversary here s a list of s...   \n",
       "1  As state legislatures shift into high gear man...   \n",
       "2  FILE In a Tuesday Nov file photo Wisconsin Rep...   \n",
       "3  Former Ohio Gov Ted Strickland D announced Wed...   \n",
       "4  Nevada Senate Minority Leader Michael Roberson...   \n",
       "\n",
       "                                        text_bigrams  \n",
       "0  honor anniversary list things americans part l...  \n",
       "1  state legislatures shift high gear election re...  \n",
       "2  file tuesday nov file photo wisconsin republic...  \n",
       "3  ohio gov ted strickland announced wednesday ll...  \n",
       "4  nevada senate minority leader michael roberson...  "
      ]
     },
     "execution_count": 126,
     "metadata": {},
     "output_type": "execute_result"
    }
   ],
   "source": [
    "df.head()"
   ]
  },
  {
   "cell_type": "code",
   "execution_count": 110,
   "metadata": {},
   "outputs": [],
   "source": [
    "# save data to csv file\n",
    "df.to_csv('preprocessed.csv', index = False)"
   ]
  },
  {
   "cell_type": "code",
   "execution_count": 149,
   "metadata": {},
   "outputs": [
    {
     "data": {
      "text/plain": [
       "1714"
      ]
     },
     "execution_count": 149,
     "metadata": {},
     "output_type": "execute_result"
    }
   ],
   "source": [
    "# creating two different datasets for media split by ideology\n",
    "ideology = df.groupby(\"ideology\")\n",
    "left = ideology.get_group('left')\n",
    "right = ideology.get_group('right')\n",
    "\n",
    "len(right)"
   ]
  },
  {
   "cell_type": "code",
   "execution_count": 144,
   "metadata": {},
   "outputs": [],
   "source": [
    "# export text data to txt file for Iramuteq analysis\n",
    "text_l =left['title'].apply(str) \n",
    "with open('left.txt', 'w') as f:\n",
    "    for line in text_l:\n",
    "        f.write(line)\n",
    "        f.write(' ')"
   ]
  },
  {
   "cell_type": "code",
   "execution_count": 150,
   "metadata": {},
   "outputs": [],
   "source": [
    "text_r =right['title'].apply(str) \n",
    "with open('right.txt', 'w') as f:\n",
    "    for line in text_r:\n",
    "        f.write(line)\n",
    "        f.write(' ')"
   ]
  }
 ],
 "metadata": {
  "interpreter": {
   "hash": "98a3d57d6555b287d57a6e94fda6c04b60c6fddf99ca785e6b35ed0d66da8c0f"
  },
  "kernelspec": {
   "display_name": "Python 3.9.12 64-bit (windows store)",
   "language": "python",
   "name": "python3"
  },
  "language_info": {
   "codemirror_mode": {
    "name": "ipython",
    "version": 3
   },
   "file_extension": ".py",
   "mimetype": "text/x-python",
   "name": "python",
   "nbconvert_exporter": "python",
   "pygments_lexer": "ipython3",
   "version": "3.9.12"
  },
  "orig_nbformat": 4
 },
 "nbformat": 4,
 "nbformat_minor": 2
}
